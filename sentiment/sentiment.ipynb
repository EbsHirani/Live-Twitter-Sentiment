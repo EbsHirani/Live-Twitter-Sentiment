{
  "nbformat": 4,
  "nbformat_minor": 0,
  "metadata": {
    "colab": {
      "name": "sentiment.ipynb",
      "provenance": []
    },
    "kernelspec": {
      "name": "python3",
      "display_name": "Python 3"
    }
  },
  "cells": [
    {
      "cell_type": "code",
      "metadata": {
        "id": "REQozlzP_V3v",
        "colab_type": "code",
        "colab": {}
      },
      "source": [
        "import os\n",
        "os.chdir(\"drive/My Drive/sentiment\")\n",
        "os.getcwd()\n"
      ],
      "execution_count": 0,
      "outputs": []
    },
    {
      "cell_type": "code",
      "metadata": {
        "id": "ELD7EdLKDpyI",
        "colab_type": "code",
        "colab": {}
      },
      "source": [
        "import nltk\n",
        "# nltk.download('averaged_perceptron_tagger')\n",
        "import random\n",
        "from nltk.classify.scikitlearn import SklearnClassifier\n",
        "from sklearn.naive_bayes import MultinomialNB, GaussianNB, BernoulliNB\n",
        "from sklearn.linear_model import LogisticRegression, SGDClassifier\n",
        "from sklearn.svm import SVC, LinearSVC, NuSVC\n",
        "from nltk.classify import ClassifierI\n",
        "from statistics import mode"
      ],
      "execution_count": 0,
      "outputs": []
    },
    {
      "cell_type": "code",
      "metadata": {
        "id": "7SqJUWpJnOSA",
        "colab_type": "code",
        "colab": {}
      },
      "source": [
        "class VoteClassifier(ClassifierI):\n",
        "  def __init__(self, *classifiers):\n",
        "    self._classifiers = classifiers\n",
        "  def classify(self, features):\n",
        "    votes = []\n",
        "    for classifier in self._classifiers:\n",
        "      vote = classifier.classify(features)\n",
        "      votes.append(vote)\n",
        "      return mode(votes)\n",
        "  def confidence(self, features):\n",
        "    votes = []\n",
        "    for classifier in self._classifiers:\n",
        "      vote = classifier.classify(features)\n",
        "      votes.append(vote)\n",
        "      return votes.count(mode(votes)) / len(votes)    "
      ],
      "execution_count": 0,
      "outputs": []
    },
    {
      "cell_type": "code",
      "metadata": {
        "id": "18dMiwtTAASB",
        "colab_type": "code",
        "colab": {}
      },
      "source": [
        "pos_reviews = open(\"positive.txt\",\"r\",encoding = \"latin-1\").read()\n",
        "neg_reviews = open(\"negative.txt\",\"r\",encoding = \"latin-1\").read()\n",
        "documents = []\n",
        "for review in pos_reviews.split(\"\\n\"):\n",
        "  documents.append((review, \"pos\"))\n",
        "for review in neg_reviews.split(\"\\n\"):\n",
        "  documents.append((review, \"neg\"))\n"
      ],
      "execution_count": 0,
      "outputs": []
    },
    {
      "cell_type": "code",
      "metadata": {
        "id": "trvrq03QCCc3",
        "colab_type": "code",
        "colab": {
          "base_uri": "https://localhost:8080/",
          "height": 55
        },
        "outputId": "ecca048d-d2d5-49a1-b37d-630d8598fc51"
      },
      "source": [
        "word_set = []\n",
        "pos_words = nltk.word_tokenize(pos_reviews)\n",
        "pos_p = nltk.pos_tag(pos_words)\n",
        "neg_words = nltk.word_tokenize(neg_reviews)\n",
        "pos_n = nltk.pos_tag(neg_words)\n",
        "for word, tag in pos_p:\n",
        "  if tag[0] == \"J\":\n",
        "    word_set.append(word.lower())\n",
        "for word, tag in pos_n:\n",
        "  if tag[0] == \"J\":\n",
        "    word_set.append(word.lower())\n",
        "print(word_set[:20])"
      ],
      "execution_count": 68,
      "outputs": [
        {
          "output_type": "stream",
          "text": [
            "['21st', 'new', 'conan', 'greater', 'jean-claud', 'steven', 'elaborate', 'huge', 'expanded', 'effective', 'too-tepid', 'good', 'rare', 'honest', 'great', 'neurotic', 'absolute', 'good', 'snappy', 'clever']\n"
          ],
          "name": "stdout"
        }
      ]
    },
    {
      "cell_type": "code",
      "metadata": {
        "id": "AvrtC9zmDiAu",
        "colab_type": "code",
        "colab": {
          "base_uri": "https://localhost:8080/",
          "height": 52
        },
        "outputId": "658bd87c-9dca-4d76-9131-63dc57bf8746"
      },
      "source": [
        "word_freq = nltk.FreqDist(word_set)\n",
        "word_features = list(word_freq.keys())[:5000]\n",
        "print(word_features[:5])\n",
        "print(word_freq[\"new\"])"
      ],
      "execution_count": 69,
      "outputs": [
        {
          "output_type": "stream",
          "text": [
            "['21st', 'new', 'conan', 'greater', 'jean-claud']\n",
            "206\n"
          ],
          "name": "stdout"
        }
      ]
    },
    {
      "cell_type": "code",
      "metadata": {
        "id": "-fXVzXFIYR3h",
        "colab_type": "code",
        "colab": {}
      },
      "source": [
        "import pickle\n",
        "save_features = open(\"word_features.pickle\",\"wb\")\n",
        "pickle.dump(word_features, save_features)\n",
        "save_features.close()"
      ],
      "execution_count": 0,
      "outputs": []
    },
    {
      "cell_type": "code",
      "metadata": {
        "id": "e41TcytQFY9m",
        "colab_type": "code",
        "colab": {}
      },
      "source": [
        "def get_features(doc):\n",
        "  word_set = set(nltk.word_tokenize(doc))\n",
        "  features = {}\n",
        "  for word in word_features:\n",
        "    features[word] = (word in word_set)\n",
        "  return features\n",
        "featureset = [(get_features(doc), category) for doc, category in documents]\n",
        "#featureset[0]"
      ],
      "execution_count": 0,
      "outputs": []
    },
    {
      "cell_type": "code",
      "metadata": {
        "id": "W05KQyH8GeDM",
        "colab_type": "code",
        "colab": {}
      },
      "source": [
        "random.shuffle(featureset)\n",
        "#featureset[0]"
      ],
      "execution_count": 0,
      "outputs": []
    },
    {
      "cell_type": "code",
      "metadata": {
        "id": "V6DHwlh5G4Iv",
        "colab_type": "code",
        "colab": {
          "base_uri": "https://localhost:8080/",
          "height": 35
        },
        "outputId": "69ff7ebb-fc9b-4851-825a-5f36b90755cf"
      },
      "source": [
        "train = featureset[:10000]\n",
        "test = featureset[10000:]\n",
        "classifier = nltk.NaiveBayesClassifier.train(train)\n",
        "print(f\"Accuracy : {nltk.classify.accuracy(classifier, test)*100}\")"
      ],
      "execution_count": 73,
      "outputs": [
        {
          "output_type": "stream",
          "text": [
            "Accuracy : 72.43975903614458\n"
          ],
          "name": "stdout"
        }
      ]
    },
    {
      "cell_type": "code",
      "metadata": {
        "id": "v6L_rQpQIozA",
        "colab_type": "code",
        "colab": {
          "base_uri": "https://localhost:8080/",
          "height": 208
        },
        "outputId": "0510d0b6-c9ef-4bcd-8d00-f6dcdb817427"
      },
      "source": [
        "classifier.show_most_informative_features()"
      ],
      "execution_count": 74,
      "outputs": [
        {
          "output_type": "stream",
          "text": [
            "Most Informative Features\n",
            "              engrossing = True              pos : neg    =     20.4 : 1.0\n",
            "                mediocre = True              neg : pos    =     15.6 : 1.0\n",
            "                 generic = True              neg : pos    =     15.0 : 1.0\n",
            "              refreshing = True              pos : neg    =     14.4 : 1.0\n",
            "                    flat = True              neg : pos    =     14.2 : 1.0\n",
            "                  boring = True              neg : pos    =     14.1 : 1.0\n",
            "               inventive = True              pos : neg    =     13.0 : 1.0\n",
            "                    dull = True              neg : pos    =     12.4 : 1.0\n",
            "                    warm = True              pos : neg    =     12.2 : 1.0\n",
            "               wonderful = True              pos : neg    =     11.8 : 1.0\n"
          ],
          "name": "stdout"
        }
      ]
    },
    {
      "cell_type": "code",
      "metadata": {
        "id": "iXzS2A_WlXfQ",
        "colab_type": "code",
        "colab": {}
      },
      "source": [
        "save_classifier = open(\"NaiveBayes.pickle\",\"wb\")\n",
        "pickle.dump(classifier, save_classifier)\n",
        "save_classifier.close()"
      ],
      "execution_count": 0,
      "outputs": []
    },
    {
      "cell_type": "code",
      "metadata": {
        "id": "5sxKwHy4IsoR",
        "colab_type": "code",
        "colab": {
          "base_uri": "https://localhost:8080/",
          "height": 35
        },
        "outputId": "86cfa8de-13a8-49ee-a43d-2e1ff67e9bbb"
      },
      "source": [
        "multi = SklearnClassifier(MultinomialNB())\n",
        "multi.train(train)\n",
        "print(f\"Accuracy : {nltk.classify.accuracy(multi, test)*100}\")"
      ],
      "execution_count": 76,
      "outputs": [
        {
          "output_type": "stream",
          "text": [
            "Accuracy : 72.28915662650603\n"
          ],
          "name": "stdout"
        }
      ]
    },
    {
      "cell_type": "code",
      "metadata": {
        "id": "VMVohHk1mGsm",
        "colab_type": "code",
        "colab": {}
      },
      "source": [
        "save_classifier = open(\"MultiNB.pickle\",\"wb\")\n",
        "pickle.dump(multi, save_classifier)\n",
        "save_classifier.close()"
      ],
      "execution_count": 0,
      "outputs": []
    },
    {
      "cell_type": "code",
      "metadata": {
        "id": "mE9GnxwCI0YX",
        "colab_type": "code",
        "colab": {
          "base_uri": "https://localhost:8080/",
          "height": 35
        },
        "outputId": "64f45b0e-49b6-485f-e72a-969a950f26d9"
      },
      "source": [
        "bernoulli = SklearnClassifier(BernoulliNB())\n",
        "bernoulli.train(train)\n",
        "print(f\"Accuracy : {nltk.classify.accuracy(bernoulli, test)*100}\")"
      ],
      "execution_count": 78,
      "outputs": [
        {
          "output_type": "stream",
          "text": [
            "Accuracy : 72.43975903614458\n"
          ],
          "name": "stdout"
        }
      ]
    },
    {
      "cell_type": "code",
      "metadata": {
        "id": "LPrubRacmSpS",
        "colab_type": "code",
        "colab": {}
      },
      "source": [
        "save_classifier = open(\"BernoulliNB.pickle\",\"wb\")\n",
        "pickle.dump(bernoulli, save_classifier)\n",
        "save_classifier.close()"
      ],
      "execution_count": 0,
      "outputs": []
    },
    {
      "cell_type": "code",
      "metadata": {
        "id": "BFDXpVh7JAGA",
        "colab_type": "code",
        "colab": {
          "base_uri": "https://localhost:8080/",
          "height": 35
        },
        "outputId": "a5230ec4-b12e-4cd8-8029-c3c20801d862"
      },
      "source": [
        "logistic = SklearnClassifier(LogisticRegression())\n",
        "logistic.train(train)\n",
        "print(f\"Accuracy : {nltk.classify.accuracy(logistic, test)*100}\")"
      ],
      "execution_count": 80,
      "outputs": [
        {
          "output_type": "stream",
          "text": [
            "Accuracy : 71.53614457831326\n"
          ],
          "name": "stdout"
        }
      ]
    },
    {
      "cell_type": "code",
      "metadata": {
        "id": "_ISI56bKmcYb",
        "colab_type": "code",
        "colab": {}
      },
      "source": [
        "save_classifier = open(\"Logistic.pickle\",\"wb\")\n",
        "pickle.dump(logistic, save_classifier)\n",
        "save_classifier.close()"
      ],
      "execution_count": 0,
      "outputs": []
    },
    {
      "cell_type": "code",
      "metadata": {
        "id": "E-uAI4NJJJvI",
        "colab_type": "code",
        "colab": {
          "base_uri": "https://localhost:8080/",
          "height": 35
        },
        "outputId": "0f2ae81e-8255-4df2-ce46-ff81a328a35e"
      },
      "source": [
        "sgd = SklearnClassifier(SGDClassifier())\n",
        "sgd.train(train)\n",
        "print(f\"Accuracy : {nltk.classify.accuracy(sgd, test)*100}\")"
      ],
      "execution_count": 82,
      "outputs": [
        {
          "output_type": "stream",
          "text": [
            "Accuracy : 69.57831325301204\n"
          ],
          "name": "stdout"
        }
      ]
    },
    {
      "cell_type": "code",
      "metadata": {
        "id": "FVKiPwpCmq0A",
        "colab_type": "code",
        "colab": {}
      },
      "source": [
        "save_classifier = open(\"SGD.pickle\",\"wb\")\n",
        "pickle.dump(sgd, save_classifier)\n",
        "save_classifier.close()"
      ],
      "execution_count": 0,
      "outputs": []
    },
    {
      "cell_type": "code",
      "metadata": {
        "id": "ZMKVo9KsnRfS",
        "colab_type": "code",
        "colab": {
          "base_uri": "https://localhost:8080/",
          "height": 35
        },
        "outputId": "270b3cd3-931a-4b58-9899-8dc78aa36b0c"
      },
      "source": [
        "voted_classifier = VoteClassifier(sgd, logistic, bernoulli, multi, classifier)\n",
        "print(f\"Accuracy : {nltk.classify.accuracy(voted_classifier, test)*100}\")\n"
      ],
      "execution_count": 84,
      "outputs": [
        {
          "output_type": "stream",
          "text": [
            "Accuracy : 69.57831325301204\n"
          ],
          "name": "stdout"
        }
      ]
    },
    {
      "cell_type": "code",
      "metadata": {
        "id": "E9JNGKBmnkAk",
        "colab_type": "code",
        "colab": {
          "base_uri": "https://localhost:8080/",
          "height": 35
        },
        "outputId": "bc2140a9-3345-4ed3-d9bb-4e0ca8abdad8"
      },
      "source": [
        "print(f\"Output {voted_classifier.classify(test[0][0])} Confidence {voted_classifier.confidence(test[0][0])}\")"
      ],
      "execution_count": 85,
      "outputs": [
        {
          "output_type": "stream",
          "text": [
            "Output pos Confidence 1.0\n"
          ],
          "name": "stdout"
        }
      ]
    },
    {
      "cell_type": "code",
      "metadata": {
        "id": "dMa9ZFWXoZqZ",
        "colab_type": "code",
        "colab": {
          "base_uri": "https://localhost:8080/",
          "height": 52
        },
        "outputId": "a1a95fe2-a9c1-44ca-8386-60ac1baafe36"
      },
      "source": [
        "review = \"This movie was amazing. Would recommend to Everyone\"\n",
        "print(f\"Class : {voted_classifier.classify(get_features(review))}\")\n",
        "print(f\"Confidence : {voted_classifier.confidence(get_features(review))}\")"
      ],
      "execution_count": 86,
      "outputs": [
        {
          "output_type": "stream",
          "text": [
            "Class : pos\n",
            "Confidence : 1.0\n"
          ],
          "name": "stdout"
        }
      ]
    },
    {
      "cell_type": "code",
      "metadata": {
        "id": "2xmPy6d2piVT",
        "colab_type": "code",
        "colab": {
          "base_uri": "https://localhost:8080/",
          "height": 52
        },
        "outputId": "c3c43d84-af07-405b-bb72-8ad4a46859e4"
      },
      "source": [
        "review = \"Todd is a horrible player, the manager was too stupid to bench him\"\n",
        "print(f\"Class : {voted_classifier.classify(get_features(review))}\")\n",
        "print(f\"Confidence : {voted_classifier.confidence(get_features(review))}\")"
      ],
      "execution_count": 87,
      "outputs": [
        {
          "output_type": "stream",
          "text": [
            "Class : neg\n",
            "Confidence : 1.0\n"
          ],
          "name": "stdout"
        }
      ]
    },
    {
      "cell_type": "code",
      "metadata": {
        "id": "KZ6IwtVCp8Dp",
        "colab_type": "code",
        "colab": {}
      },
      "source": [
        ""
      ],
      "execution_count": 0,
      "outputs": []
    }
  ]
}